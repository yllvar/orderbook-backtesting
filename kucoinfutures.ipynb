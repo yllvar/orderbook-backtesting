import os
import time
import ccxt
import pandas as pd
import numpy as np
import matplotlib.pyplot as plt
import seaborn as sns
from dotenv import load_dotenv
from itertools import product
from tabulate import tabulate
import logging

load_dotenv()

class DataFetcher:
    def __init__(self, exchange, symbol):
        self.exchange = exchange
        self.symbol = symbol

    def fetch_ohlcv(self, timeframe):
        try:
            ohlcvs = self.exchange.fetch_ohlcv(self.symbol, timeframe=timeframe)
            if not ohlcvs:
                raise ValueError(f"No OHLCV data available for symbol: {self.symbol}")
            df = pd.DataFrame(ohlcvs, columns=['timestamp', 'open', 'high', 'low', 'close', 'volume'])
            df['timestamp'] = pd.to_datetime(df['timestamp'], unit='ms')
            return df
        except ccxt.BaseError as e:
            logging.error(f"Error fetching OHLCV data for symbol {self.symbol}: {e}")
            return None

    def fetch_l3_order_book(self, limit=None):
        try:
            order_book = self.exchange.fetch_order_book(self.symbol, limit=limit, params={'level': 2})
            if 'bids' not in order_book or 'asks' not in order_book:
                raise KeyError("Invalid order book data")
            bids = order_book['bids']
            asks = order_book['asks']
            return bids, asks
        except ccxt.BaseError as e:
            logging.error(f"Error fetching Level 3 order book data for symbol {self.symbol}: {e}")
            return None, None

class OrderBookAnalyzer:
    def __init__(self, symbol, exchange, limit_entry_params, threshold_positive, threshold_negative,
                 time_criteria, initial_capital, stop_loss=0.28, take_profit=0.30, slippage=0.005):
        
        self.symbol = symbol
        self.exchange = exchange
        self.limit_entry_params = limit_entry_params
        self.threshold_positive = threshold_positive
        self.threshold_negative = threshold_negative
        self.time_criteria = time_criteria
        self.initial_capital = initial_capital
        self.stop_loss = stop_loss
        self.take_profit = take_profit
        self.slippage = slippage
        self.trailing_stop_loss = 0.28
        self.logger = logging.getLogger(__name__)
        self.logger.setLevel(logging.INFO)
        self.total_winning_trades = 0
        self.total_losing_trades = 0
        self.total_profits = []
        self.total_losses = []
        self.total_trades = 0
        self.total_profit = 0.0
        self.total_loss = 0.0
        self.sharpe_ratio = 0.0
        self.trade_durations = []
        self.trade_returns = []
        
        self.entry_price = 0.0  # Add the entry_price attribute and initialize it
        self.exit_price = None  # Add the exit_price attribute and initialize it
        self.position_profit = 0.0
        self.average_profit_per_trade = 0.0
        self.average_loss_per_trade = 0.0
        self.profit_factor = 0.0
        self.win_rate = 0.0
        self.average_trade_duration = 0.0
        self.average_trade_return = 0.0
        self.maximum_drawdown = 0.0
        self.capital = [self.initial_capital]
        self.trades = []  # Add this line to initialize the 'trades' attribute as an empty list
        
    def determine_entry_signal(self, order_book_imbalance, close_price, limit_entry_threshold_positive,
                               limit_entry_threshold_negative):
        if order_book_imbalance > limit_entry_threshold_positive:
            entry_signal = f"Enter Long Position at {close_price} (Place Limit Order at {close_price})"
        elif order_book_imbalance < limit_entry_threshold_negative:
            entry_signal = f"Enter Short Position at {close_price} (Place Limit Order at {close_price})"
        else:
            entry_signal = 'No Entry Signal'

        return entry_signal

    def analyze_data(self, ohlcvs, bids, asks, close_price):
        bid_volume, ask_volume, order_book_imbalance = self.calculate_order_book_metrics(bids, asks)
        entry_signal_triggered = False
        entry_signal = self.determine_entry_signal(order_book_imbalance, close_price,
                                                   self.threshold_positive, self.threshold_negative)

        if entry_signal != 'No Entry Signal':
            signal_counter = 1
            current_entry_signal = entry_signal
            for i in range(1, len(ohlcvs)):
                if signal_counter >= self.time_criteria:
                    entry_signal_triggered = True
                    break
                if current_entry_signal != 'No Entry Signal':
                    signal_counter += 1
                else:
                    signal_counter = 0

        entry_signal = (
            entry_signal
            if entry_signal_triggered
            else 'No Entry Signal (Time-based Filter)'
        )

        return bid_volume, ask_volume, order_book_imbalance, entry_signal

    def calculate_order_book_metrics(self, bids, asks):
        if not bids or not asks:
            raise ValueError("Invalid order book data")
        bid_volume = sum([bid[1] for bid in bids])
        ask_volume = sum([ask[1] for ask in asks])
        order_book_imbalance = bid_volume - ask_volume
        return bid_volume, ask_volume, order_book_imbalance

    def simulate_position(self, position, close_price):
        entry_price = position['entry_price']
        exit_price = close_price
        position['exit_price'] = exit_price
        position_profit = 0.0
        position_type = position['type']

        if position_type == 'Long':
            position_profit = exit_price - entry_price
        elif position_type == 'Short':
            position_profit = entry_price - exit_price

        stop_loss_threshold = entry_price * self.stop_loss
        take_profit_threshold = entry_price * self.take_profit

        if position_profit > 0:
            stop_loss_threshold = max(stop_loss_threshold, entry_price + position_profit * self.trailing_stop_loss)

        if position_profit < 0 and abs(position_profit) > stop_loss_threshold:
            position_profit = -stop_loss_threshold
        elif position_profit > 0 and position_profit > take_profit_threshold:
            position_profit = take_profit_threshold

        if position_profit > 0:
            self.total_profit += position_profit
            self.total_winning_trades += 1
            self.total_profits.append(position_profit)
        else:
            self.total_loss -= position_profit
            self.total_losing_trades += 1
            self.total_losses.append(position_profit)

        entry_time = position['entry_time'].to_pydatetime() if position['entry_time'] is not None else None
        exit_time = position['exit_time'].to_pydatetime() if position['exit_time'] is not None else None
        if entry_time is not None and exit_time is not None and position_profit != 0:
            trade_duration = (exit_time - entry_time).total_seconds() / 60
            self.trade_durations.append(trade_duration)
            self.trade_returns.append(position_profit)

        self.logger.info("Position Details:")
        self.logger.info(f"Entry Price: {entry_price:.2f}")
        self.logger.info(f"Exit Price: {exit_price:.2f}")
        self.logger.info(f"Profit/Loss: {position_profit:.2f}")


    def print_analysis_results(self):
        self.logger.info("Position Details:")
        self.logger.info(f"Entry Price: {self.entry_price:.2f}")
        self.logger.info(f"Exit Price: {self.exit_price:.2f}")
        self.logger.info(f"Profit/Loss: {self.position_profit:.2f}")

        self.logger.info("Number of Winning Trades: {self.total_winning_trades}")
        self.logger.info("Number of Losing Trades: {self.total_losing_trades}")
        self.logger.info(f"Average Profit per Trade: {self.average_profit_per_trade:.2f}")
        self.logger.info(f"Average Loss per Trade: {self.average_loss_per_trade:.2f}")
        self.logger.info(f"Profit Factor: {self.profit_factor:.2f}")
        self.logger.info(f"Win Rate: {self.win_rate:.2%}")
        self.logger.info(f"Average Trade Duration: {self.average_trade_duration:.2f} minutes")
        self.logger.info(f"Average Trade Return: {self.average_trade_return:.2f}")
        self.logger.info(f"Sharpe Ratio: {self.sharpe_ratio:.2f}")
        self.logger.info(f"Maximum Drawdown: {self.maximum_drawdown:.2%}")


    def plot_equity_curve(self):
        capital = [self.initial_capital]
        trades = [0]
        for i in range(self.total_trades):
            trades.append(i + 1)
            capital.append(capital[-1] + trades[i + 1])
        plt.figure(figsize=(10, 6))
        plt.plot(trades, capital)
        plt.xlabel('Number of Trades')
        plt.ylabel('Equity')
        plt.title('Equity Curve')
        plt.grid(True)
        plt.show()


    def plot_profit_loss(self):
        colors = ['g' if profit > 0 else 'r' for profit in self.total_profits]
        plt.figure(figsize=(10, 6))
        plt.bar(range(1, self.total_trades + 1), self.total_profits, color=colors)
        plt.xlabel('Number of Trades')
        plt.ylabel('Profit/Loss')
        plt.title('Win Rate and Profit/Loss')
        plt.grid(True)
        plt.show()


    def plot_drawdown(self):
        drawdown = [(max(self.capital[:i + 2]) - c) / max(self.capital[:i + 2]) * 100 for i, c in enumerate(self.capital[:-1])]
        plt.figure(figsize=(10, 6))
        plt.plot(self.trades, drawdown)
        plt.xlabel('Number of Trades')
        plt.ylabel('Drawdown (%)')
        plt.title('Drawdown')
        plt.grid(True)
        plt.show()
        
    def calculate_performance_metrics(self):
        if self.total_trades == 0:
            win_rate = 0.0
            average_trade_duration = 0.0
            average_trade_return = 0.0
            sharpe_ratio = 0.0
            maximum_drawdown = 0.0
            profit_factor = 0.0  # Assign a default value to profit_factor
        else:
            total_profit_loss = self.total_profit + self.total_loss

            if total_profit_loss == 0:
                win_rate = 0.0
            else:
                win_rate = self.total_profit / total_profit_loss

            average_trade_duration = np.mean(self.trade_durations) if self.trade_durations else 0.0
            average_trade_return = np.mean(self.trade_returns) if self.trade_returns else 0.0
            sharpe_ratio = np.mean(self.trade_returns) / np.std(self.trade_returns) if self.trade_returns else 0.0
            self.sharpe_ratio = sharpe_ratio  # Assign the calculated sharpe_ratio to the attribute
            cumulative_returns = np.cumsum(self.trade_returns)
            drawdown = 1 - (cumulative_returns / np.maximum.accumulate(cumulative_returns))
            maximum_drawdown = np.max(drawdown) if cumulative_returns.size > 0 else 0.0

            total_winning_trades = self.total_winning_trades
            total_losing_trades = self.total_losing_trades
            total_profits = self.total_profits
            total_losses = self.total_losses
            average_profit_per_trade = np.mean(total_profits) if total_profits else 0.0
            average_loss_per_trade = np.mean(total_losses) if total_losses else 0.0
            profit_factor = np.sum(total_profits) / np.abs(np.sum(total_losses)) if total_losses else 0.0

        return (
            win_rate,
            average_trade_duration,
            average_trade_return,
            sharpe_ratio,
            maximum_drawdown,
            profit_factor,
            average_profit_per_trade,
            average_loss_per_trade,
        )
    
    def simulate_trades(self, ohlcvs, bids, asks):
        close_price = ohlcvs['close'].iloc[-1]
        entry_price = (bids[0][0] + asks[0][0]) / 2
        entry_price_with_slippage = entry_price * (1 + self.slippage)
        bid_volume, ask_volume, order_book_imbalance, entry_signal = self.analyze_data(
            ohlcvs, bids, asks, close_price
        )

        self.logger.info(f"{'-' * 50}")
        self.logger.info("Symbol: %s", self.symbol)
        self.logger.info("Entry Signal: %s", entry_signal)
        self.logger.info("")

        support_level, resistance_level = self.calculate_support_resistance_levels(ohlcvs)
        spread = bids[0][0] - asks[0][0]
        volatility = (resistance_level - support_level) / support_level * 100
        market_strength = (
            "Strong buying pressure and market strength"
            if bid_volume > ask_volume
            else "Strong selling pressure and market weakness"
        )
        trend = (
            "Bullish market trend"
            if close_price > resistance_level
            else "Bearish market trend"
            if close_price < support_level
            else "Neutral market trend"
        )

        self.logger.info("Additional Analysis:")
        self.logger.info("Bid-Ask Spread: %s", spread)
        self.logger.info("Volatility (%%): %s", volatility)
        self.logger.info("Market Strength: %s", market_strength)
        self.logger.info("Trend: %s", trend)
        self.logger.info("")

        if entry_signal != 'No Entry Signal (Time-based Filter)':
            position = {
                'type': 'Long' if 'Enter Long Position' in entry_signal else 'Short',
                'entry_price': entry_price_with_slippage,
                'entry_time': ohlcvs['timestamp'].iloc[-1],
                'exit_price': None,
                'exit_time': None,
            }
            self.total_trades += 1
            self.capital.append(self.capital[-1] + 1)  # Append 1 to 'self.capital' to represent a trade
            self.trades.append(self.total_trades)  # Append the trade number to 'self.trades'
            self.simulate_position(position, close_price)

    def print_order_book_analysis(self, symbol, bid_volume, ask_volume, order_book_imbalance):
        table = [
            ["Symbol", symbol],
            ["Bid Volume", bid_volume],
            ["Ask Volume", ask_volume],
            ["Market Strength", "Strong buying pressure and market strength" if bid_volume > ask_volume else
                                "Strong selling pressure and market weakness"],
            ["Order Book Imbalance", "Buy pressure dominates the market (bullish sentiment)" if order_book_imbalance > 0 else
                                     "Sell pressure dominates the market (bearish sentiment)" if order_book_imbalance < 0 else
                                     "Balanced order book"]
        ]
        headers = ["Parameter", "Value"]

        print(tabulate(table, headers=headers, tablefmt="fancy_grid"))

    def calculate_support_resistance_levels(self, df):
        if 'low' not in df.columns or 'high' not in df.columns:
            raise KeyError("Required columns 'low' and 'high' not found in the DataFrame")
        support_level = np.min(df['low'])
        resistance_level = np.max(df['high'])
        return support_level, resistance_level

    def backtest(self, timeframe='5m'):
        data_fetcher = DataFetcher(self.exchange, self.symbol)
        ohlcvs = data_fetcher.fetch_ohlcv(timeframe)

        if ohlcvs is None or len(ohlcvs) == 0:
            return

        bids, asks = data_fetcher.fetch_l3_order_book()
        if bids is None or asks is None:
            return

        self.simulate_trades(ohlcvs, bids, asks)
        self.calculate_performance_metrics()

        capital = [self.initial_capital]
        trades = [0]
        for i in range(self.total_trades):
            trades.append(i + 1)
            capital.append(capital[-1] + trades[i + 1])

def optimize_parameters(symbol, exchange, limit_entry_params, initial_capital, threshold_positive_range,
                        threshold_negative_range, time_criteria_range):
    max_sharpe_ratio = float('-inf')
    best_parameters = {
        'symbol': symbol,  # Add the 'symbol' key with the provided value
        'threshold_positive': threshold_positive_range[0],
        'threshold_negative': threshold_negative_range[0],
        'time_criteria': time_criteria_range[0]
    }

    for threshold_positive, threshold_negative, time_criteria in product(threshold_positive_range,
                                                                         threshold_negative_range,
                                                                         time_criteria_range):
        analyzer = OrderBookAnalyzer(
            symbol, exchange, limit_entry_params.get(symbol, {}),
            threshold_positive, threshold_negative, time_criteria, initial_capital
        )
        analyzer.backtest()

        _, _, _, _, _, _, _, _ = analyzer.calculate_performance_metrics()
        total_sharpe_ratio = analyzer.sharpe_ratio

        if total_sharpe_ratio > max_sharpe_ratio:
            max_sharpe_ratio = total_sharpe_ratio
            best_parameters = {
                'symbol': symbol,  # Include the 'symbol' key in the best_parameters dictionary
                'threshold_positive': threshold_positive,
                'threshold_negative': threshold_negative,
                'time_criteria': time_criteria
            }

    return best_parameters

def setup_logger():
    logger = logging.getLogger(__name__)
    logger.setLevel(logging.INFO)
    formatter = logging.Formatter('%(asctime)s - %(levelname)s - %(message)s')
    stream_handler = logging.StreamHandler()
    stream_handler.setFormatter(formatter)
    logger.addHandler(stream_handler)
    return logger


def main():
    api_key = os.getenv('API_KEY')
    secret_key = os.getenv('SECRET_KEY')
    passphrase = os.getenv('PASSPHRASE')

    exchange = ccxt.kucoinfutures({
        'apiKey': api_key,
        'secret': secret_key,
        'password': passphrase,
        'enableRateLimit': True
    })

    symbol = 'ETH/USDT:USDT'
    timeframe = '5m'
    limit_entry_parameters = {'ETH/USDT:USDT': {'limit': 1000}}
    initial_capital = 100

    threshold_positive_range = [40, 50, 60]
    threshold_negative_range = [-80, -75, -70]
    time_criteria_range = [4, 5, 6]

    logger = setup_logger()
        

    # Call the modified analyze_data method to retrieve the order_book_imbalance value
    analyzer = None
    data_fetcher = DataFetcher(exchange, symbol)  # Create an instance of DataFetcher
    ohlcvs = data_fetcher.fetch_ohlcv(timeframe)
    bids, asks = data_fetcher.fetch_l3_order_book()
    close_price = ohlcvs['close'].iloc[-1]
    bid_volume, ask_volume, order_book_imbalance, _ = analyzer.analyze_data(ohlcvs, bids, asks, close_price)

    analyzer = OrderBookAnalyzer(
        symbol, exchange, limit_entry_parameters.get(symbol, {}),
        best_parameters['threshold_positive'], best_parameters['threshold_negative'],
        best_parameters['time_criteria'], initial_capital
    )
    analyzer.logger = logger

if __name__ == '__main__':
    # Define the time duration in seconds for the backtesting loop
    backtesting_duration = 3600  # 1 hour

    start_time = time.time()
    end_time = start_time + backtesting_duration
    symbol = 'ETH/USDT:USDT'  # Initialize the symbol outside the loop
    limit_entry_parameters = {'ETH/USDT:USDT': {'limit': 1000}} # Define 'limit_entry_parameters' here or fetch it from wherever it is defined
    
    threshold_positive_range = [40, 50, 60]
    threshold_negative_range = [-80, -75, -70]
    time_criteria_range = [4, 5, 6]
    
    initial_capital = 100  # Define the initial capital here
    
    # Initialize the 'logger' variable outside the loop
    logger = setup_logger()
    
     # Initialize the 'data_fetcher' variable outside the loop
    data_fetcher = DataFetcher(exchange, symbol)
    
while time.time() < end_time:
    api_key = os.getenv('API_KEY')
    secret_key = os.getenv('SECRET_KEY')
    passphrase = os.getenv('PASSPHRASE')

    # Create an instance of the Kucoin Futures exchange
    exchange = ccxt.kucoinfutures({
        'apiKey': api_key,
        'secret': secret_key,
        'password': passphrase,
        'enableRateLimit': True  # Adjust as needed
    })
    
    # Initialize the 'timeframe' variable here
    timeframe = '5m'  # Adjust the timeframe as needed

    # Initialize the 'analyzer' object inside the loop
    analyzer = OrderBookAnalyzer(
        symbol, exchange, limit_entry_parameters.get(symbol, {}),
        threshold_positive_range[0], threshold_negative_range[0], time_criteria_range[0], initial_capital
    )
    analyzer.logger = logger  # Assign the 'logger' to the 'analyzer' object
    
    # Perform the backtesting logic
    analyzer = OrderBookAnalyzer(
        symbol, exchange, limit_entry_parameters.get(symbol, {}),
        threshold_positive_range[0], threshold_negative_range[0], time_criteria_range[0], initial_capital
        )
    analyzer.logger = logger
    analyzer.backtest(timeframe)
        
    # Fetch new data for each iteration
    ohlcvs = data_fetcher.fetch_ohlcv(timeframe)
    bids, asks = data_fetcher.fetch_l3_order_book()
    close_price = ohlcvs['close'].iloc[-1]
    bid_volume, ask_volume, order_book_imbalance, _ = analyzer.analyze_data(ohlcvs, bids, asks, close_price)
        
    # Call the modified print_order_book_analysis method
    analyzer.print_order_book_analysis(symbol, bid_volume, ask_volume, order_book_imbalance)

    # Optimize parameters
    best_parameters = optimize_parameters(
        symbol, exchange, limit_entry_parameters, initial_capital,
        threshold_positive_range, threshold_negative_range, time_criteria_range
    )
# Update the symbol and analyzer object with the best parameters
    symbol = best_parameters['symbol']
    analyzer.threshold_positive = best_parameters['threshold_positive']
    analyzer.threshold_negative = best_parameters['threshold_negative']
    analyzer.time_criteria = best_parameters['time_criteria']
        
    # Run the backtest with the updated parameters
    analyzer.backtest(timeframe)

    # Plot the equity curve
    analyzer.plot_equity_curve()

    # Plot the profit/loss
    analyzer.plot_profit_loss()

    # Plot the drawdown
    analyzer.plot_drawdown()

    # Sleep for a specific interval before the next iteration
    time.sleep(60)  # Sleep for 1 minute between iterations  
          
